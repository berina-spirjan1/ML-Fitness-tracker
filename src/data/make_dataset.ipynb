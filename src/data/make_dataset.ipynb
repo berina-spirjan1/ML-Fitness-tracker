{
 "cells": [
  {
   "cell_type": "code",
   "execution_count": 14,
   "metadata": {},
   "outputs": [],
   "source": [
    "from glob import glob\n",
    "import pandas as pd\n",
    "\n",
    "# Reading data from our CSV files that are stored inside this repository (single files)\n",
    "\n",
    "try: \n",
    "    single_file_accelerometer = pd.read_csv(\n",
    "        '../../data/raw/MetaMotion/A-bench-heavy2-rpe8_MetaWear_2019-01-11T16.10.08.270_C42732BE255C_Accelerometer_12.500Hz_1.4.4.csv')\n",
    "    single_file_gyroscope = pd.read_csv(\n",
    "        '../../data/raw/MetaMotion/A-bench-heavy2-rpe8_MetaWear_2019-01-11T16.10.08.270_C42732BE255C_Gyroscope_25.000Hz_1.4.4.csv')\n",
    "except FileNotFoundError:\n",
    "    print(\"Files that you try to use are not available.\")\n",
    "\n",
    "# Reading all CVS files from data/raw/MetaMotion that we will use as a list later \n",
    "\n",
    "# Read all files that have csv extension if inside this repo the compiler finds some files that are not with this extension they \n",
    "# will be ignored\n",
    "\n",
    "files = glob('../../data/raw/MetaMotion/*.csv')\n",
    "\n",
    "# Extract pieces of the file name e.g. A-bench-heavy2-rpe8_MetaWear_2019-01-11T16.10.08.270_C42732BE255C_Gyroscope_25.000Hz_1.4.4.csv and append \n",
    "# it to the data frame\n",
    "\n",
    "data_path = '../../data/raw/MetaMotion/'\n",
    "\n",
    "first_file = files[0]\n",
    "\n",
    "# We will extract three variables from the file name: participant: A, exercise: bench, category of sets(e.g. heavy)\n",
    "\n",
    "participant = first_file.split('-')[0].replace(data_path,'') # on this way we are updating existing path and getting the participate\n",
    "exercise = first_file.split('-')[1]\n",
    "category = first_file.split('-')[2].rstrip('123') # with category we have the number of the set so we need to remove it\n",
    "\n",
    "data_frame = pd.read_csv(first_file)\n",
    "\n",
    "data_frame['participant'] = participant # adding new columns inside the data frame\n",
    "data_frame['exercise'] = exercise\n",
    "data_frame['category'] = category\n",
    "\n",
    "\n",
    "# --------------------------------------------------------------\n",
    "# Read all files\n",
    "# --------------------------------------------------------------\n",
    "\n",
    "\n",
    "# --------------------------------------------------------------\n",
    "# Working with datetimes\n",
    "# --------------------------------------------------------------\n",
    "\n",
    "\n",
    "# --------------------------------------------------------------\n",
    "# Turn into function\n",
    "# --------------------------------------------------------------\n",
    "\n",
    "\n",
    "# --------------------------------------------------------------\n",
    "# Merging datasets\n",
    "# --------------------------------------------------------------\n",
    "\n",
    "\n",
    "# --------------------------------------------------------------\n",
    "# Resample data (frequency conversion)\n",
    "# --------------------------------------------------------------\n",
    "\n",
    "# Accelerometer:    12.500HZ\n",
    "# Gyroscope:        25.000Hz\n",
    "\n",
    "\n",
    "# --------------------------------------------------------------\n",
    "# Export dataset\n",
    "# --------------------------------------------------------------\n"
   ]
  },
  {
   "cell_type": "code",
   "execution_count": null,
   "metadata": {},
   "outputs": [],
   "source": []
  }
 ],
 "metadata": {
  "kernelspec": {
   "display_name": "Python 3",
   "language": "python",
   "name": "python3"
  },
  "language_info": {
   "codemirror_mode": {
    "name": "ipython",
    "version": 3
   },
   "file_extension": ".py",
   "mimetype": "text/x-python",
   "name": "python",
   "nbconvert_exporter": "python",
   "pygments_lexer": "ipython3",
   "version": "3.11.5"
  },
  "orig_nbformat": 4,
  "vscode": {
   "interpreter": {
    "hash": "6ecdebf77f2ee3a47348d003f751c63e810ca996c1c68d1179f338200fa83b34"
   }
  }
 },
 "nbformat": 4,
 "nbformat_minor": 2
}
