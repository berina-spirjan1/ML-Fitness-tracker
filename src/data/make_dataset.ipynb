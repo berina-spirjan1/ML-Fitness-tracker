{
 "cells": [
  {
   "cell_type": "code",
   "execution_count": 5,
   "metadata": {},
   "outputs": [
    {
     "name": "stdout",
     "output_type": "stream",
     "text": [
      "187\n"
     ]
    }
   ],
   "source": [
    "from glob import glob\n",
    "import pandas as pd\n",
    "\n",
    "# Reading data from our CSV files that are stored inside this repository (single files)\n",
    "\n",
    "try: \n",
    "    single_file_accelerometer = pd.read_csv(\n",
    "        '../../data/raw/MetaMotion/A-bench-heavy2-rpe8_MetaWear_2019-01-11T16.10.08.270_C42732BE255C_Accelerometer_12.500Hz_1.4.4.csv')\n",
    "    single_file_gyroscope = pd.read_csv(\n",
    "        '../../data/raw/MetaMotion/A-bench-heavy2-rpe8_MetaWear_2019-01-11T16.10.08.270_C42732BE255C_Gyroscope_25.000Hz_1.4.4.csv')\n",
    "except FileNotFoundError:\n",
    "    print(\"Files that you try to use are not available.\")\n",
    "\n",
    "# Reading all CVS files from data/raw/MetaMotion that we will use as a list later \n",
    "\n",
    "# Read all files that have csv extension if inside this repo the compiler finds some files that are not with this extension they \n",
    "# will be ignored\n",
    "files = glob('../../data/raw/MetaMotion/*.csv')\n",
    "# --------------------------------------------------------------\n",
    "# Extract features from filename\n",
    "# --------------------------------------------------------------\n",
    "\n",
    "\n",
    "# --------------------------------------------------------------\n",
    "# Read all files\n",
    "# --------------------------------------------------------------\n",
    "\n",
    "\n",
    "# --------------------------------------------------------------\n",
    "# Working with datetimes\n",
    "# --------------------------------------------------------------\n",
    "\n",
    "\n",
    "# --------------------------------------------------------------\n",
    "# Turn into function\n",
    "# --------------------------------------------------------------\n",
    "\n",
    "\n",
    "# --------------------------------------------------------------\n",
    "# Merging datasets\n",
    "# --------------------------------------------------------------\n",
    "\n",
    "\n",
    "# --------------------------------------------------------------\n",
    "# Resample data (frequency conversion)\n",
    "# --------------------------------------------------------------\n",
    "\n",
    "# Accelerometer:    12.500HZ\n",
    "# Gyroscope:        25.000Hz\n",
    "\n",
    "\n",
    "# --------------------------------------------------------------\n",
    "# Export dataset\n",
    "# --------------------------------------------------------------\n"
   ]
  }
 ],
 "metadata": {
  "kernelspec": {
   "display_name": "Python 3",
   "language": "python",
   "name": "python3"
  },
  "language_info": {
   "codemirror_mode": {
    "name": "ipython",
    "version": 3
   },
   "file_extension": ".py",
   "mimetype": "text/x-python",
   "name": "python",
   "nbconvert_exporter": "python",
   "pygments_lexer": "ipython3",
   "version": "3.11.5"
  },
  "orig_nbformat": 4,
  "vscode": {
   "interpreter": {
    "hash": "6ecdebf77f2ee3a47348d003f751c63e810ca996c1c68d1179f338200fa83b34"
   }
  }
 },
 "nbformat": 4,
 "nbformat_minor": 2
}
